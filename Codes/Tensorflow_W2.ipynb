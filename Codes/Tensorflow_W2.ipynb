{
 "cells": [
  {
   "cell_type": "code",
   "execution_count": 1,
   "metadata": {
    "id": "ndbsd-xG3mMK"
   },
   "outputs": [],
   "source": [
    "import tensorflow as tf\n",
    "from tensorflow import keras"
   ]
  },
  {
   "cell_type": "code",
   "execution_count": 2,
   "metadata": {
    "id": "rnIklvE64hap"
   },
   "outputs": [],
   "source": [
    "import matplotlib.pyplot as plt\n",
    "import numpy as np"
   ]
  },
  {
   "cell_type": "code",
   "execution_count": 3,
   "metadata": {
    "colab": {
     "base_uri": "https://localhost:8080/"
    },
    "id": "Rh1cVJTj30Kg",
    "outputId": "3ec0c51b-f85d-4cc6-ad05-9977204ced8b"
   },
   "outputs": [
    {
     "name": "stdout",
     "output_type": "stream",
     "text": [
      "Downloading data from https://storage.googleapis.com/tensorflow/tf-keras-datasets/train-labels-idx1-ubyte.gz\n",
      "29515/29515 [==============================] - 0s 2us/step\n",
      "Downloading data from https://storage.googleapis.com/tensorflow/tf-keras-datasets/train-images-idx3-ubyte.gz\n",
      "26421880/26421880 [==============================] - 8s 0us/step\n",
      "Downloading data from https://storage.googleapis.com/tensorflow/tf-keras-datasets/t10k-labels-idx1-ubyte.gz\n",
      "5148/5148 [==============================] - 0s 0s/step\n",
      "Downloading data from https://storage.googleapis.com/tensorflow/tf-keras-datasets/t10k-images-idx3-ubyte.gz\n",
      "4422102/4422102 [==============================] - 1s 0us/step\n"
     ]
    }
   ],
   "source": [
    "fashion_mnist = tf.keras.datasets.fashion_mnist\n",
    "(train_imgs, train_lables), (test_imgs, test_labels) = fashion_mnist.load_data()"
   ]
  },
  {
   "cell_type": "code",
   "execution_count": 4,
   "metadata": {
    "colab": {
     "base_uri": "https://localhost:8080/",
     "height": 1000
    },
    "id": "0_MPlvhz4Gzc",
    "outputId": "aa3225a4-0f8b-4d6c-82a3-cef7d13a7adb"
   },
   "outputs": [
    {
     "name": "stdout",
     "output_type": "stream",
     "text": [
      "[[  0   0   0   0   0   1   2   0   0   0   0  58  88 102  78 100 128  94\n",
      "    0   0   0   0   0   2   0   0   0   0]\n",
      " [  0   0   0   0   1   1   1   2   0   0   9 212 171 195 176 222 188 186\n",
      "   59   0   1   1   3   1   0   0   0   0]\n",
      " [  0   0   0   0   0   0   0   0   0   0 184 174 187 165 182 139 137 208\n",
      "  161  31   0   0   0   1   0   0   0   0]\n",
      " [  0   0   0   0   0   0   0  77 134 181 198 182 228 183 161 134 220 184\n",
      "  210 188 168  92   0   0   0   0   0   0]\n",
      " [  0   0   0   0   0   0 104 199 193 168 143 129 193 143 190 164 151 120\n",
      "  120 140 192 187 143   0   0   0   0   0]\n",
      " [  0   0   0   0   0   1 164 174 135 107 126 115 169 139 102 216 143 110\n",
      "  119 124 166 114 151  69   0   0   0   0]\n",
      " [  0   0   0   0   0  58 224 195 139 133 123 117 187 160 130 125 156 114\n",
      "  151 104 212 134 209 124   0   0   0   0]\n",
      " [  0   0   0   0   0 116 196 180 183 148 122 110  91 227  81 185 238 170\n",
      "  156  81 145  60 176 162   0   0   0   0]\n",
      " [  0   0   0   0   0 153 149 190 208 199 142  96 188 191 183 175 185 222\n",
      "  111 155  64 186 139 151   0   0   0   0]\n",
      " [  0   0   0   0   0 181 142 190 157 154 164 204 185 156 156 113 123  95\n",
      "  165 137 176 137 147 153   0   0   0   0]\n",
      " [  0   0   0   0   0 183 147 186  60 141 119 240 185 141 165 188 165  91\n",
      "  105 200 235 136 151 222   0   0   0   0]\n",
      " [  0   0   0   0   5 191 188 226 125 109 222  84 172 170 136 135 177 110\n",
      "  164 157 144 139 191 188   6   0   0   0]\n",
      " [  0   0   0   0   0 188 156 183 154 211  90 174 226 233 112 190 223 191\n",
      "  161 123 177 135 143 201  13   0   0   0]\n",
      " [  0   0   0   0   0 187 120 194 233 188 171 162 175 204 118 135 162 116\n",
      "  158 198 217 183 112 189  18   0   0   0]\n",
      " [  0   0   0   0   9 201 122 188 170 140 140 117 165 184 114 155 141 142\n",
      "  109 153 159 137 122 204  40   0   0   0]\n",
      " [  0   0   0   0  40 204 126 186 158 128 126  97 147 159 146 204 136 118\n",
      "   79 164 135 134 134 207  62   0   0   0]\n",
      " [  0   0   0   0  78 216 186 193 147 142 138 129 160 189 225 141 153 125\n",
      "  124 161 133 141 189 204  81   0   0   0]\n",
      " [  0   0   0   0  56 194 163 191 156 143 143 147 192 221 150 193 222 144\n",
      "  156 169 159 133 119 190  75   0   0   0]\n",
      " [  0   0   0   0  63 186 140 216 217 216 199 182 205 215  95 153 189 144\n",
      "  187 208 209 182 130 166  75   0   0   0]\n",
      " [  0   0   0   0  89 166 121 198 174 157 121 126 169 176 170 121 172 111\n",
      "  133 146 170 187 130 175  99   0   0   0]\n",
      " [  0   0   0   0 104 160 162 182 155 151 128 112 156 158 133 187 140 106\n",
      "  116 162 138  90 143 176 102   0   0   0]\n",
      " [  0   0   0   0 165 198 204 164 145 136 123 124 184 173 135 137 170 145\n",
      "  113 173 153  85 207 232 140   0   0   0]\n",
      " [  0   0   0   0 124 181 214 180 157 145 145 124 185 193 126 141 204 133\n",
      "  110 182 151 168 156 146 109   0   0   0]\n",
      " [  0   0   0   0 115  98 160 189 191 198 201 195 235 211 213 237 219 172\n",
      "  205 217 181 181 167 129 113   0   0   0]\n",
      " [  0   0   0   0 144 115 169 143 190 153 129 118 174 120 174 237 146 113\n",
      "  126 169 148 159 167 128 130   0   0   0]\n",
      " [  0   0   0   0 140 149 174  32 192 184 173 159 186 160 160  94 161 123\n",
      "  123 165 192  81 146 148 104   0   0   0]\n",
      " [  0   0   0   0   0   0   0   0  54 222 238 221 218 253 227 255 230 219\n",
      "  227 239 162   0   0   0   0   0   0   0]\n",
      " [  0   0   0   0   0   0   0   0   0   0  22  61  88  95 102 123  86  66\n",
      "   33   0   0   0   0   0   0   0   0   0]] 6\n"
     ]
    },
    {
     "data": {
      "text/plain": [
       "<matplotlib.image.AxesImage at 0x27d65550f10>"
      ]
     },
     "execution_count": 4,
     "metadata": {},
     "output_type": "execute_result"
    },
    {
     "data": {
      "image/png": "[encoded data removed]",
      "text/plain": [
       "<Figure size 432x288 with 1 Axes>"
      ]
     },
     "metadata": {
      "needs_background": "light"
     },
     "output_type": "display_data"
    }
   ],
   "source": [
    "idx = 32\n",
    "print(train_imgs[idx], train_lables[idx])\n",
    "\n",
    "plt.imshow(train_imgs[idx], cmap = 'Greys')"
   ]
  },
  {
   "cell_type": "code",
   "execution_count": 5,
   "metadata": {
    "colab": {
     "base_uri": "https://localhost:8080/"
    },
    "id": "Q4tU9msv4yIu",
    "outputId": "621b8be9-a0d9-4b7c-bb04-4d840e4963d4"
   },
   "outputs": [
    {
     "name": "stdout",
     "output_type": "stream",
     "text": [
      "784\n"
     ]
    }
   ],
   "source": [
    "print(train_imgs[idx].size)"
   ]
  },
  {
   "cell_type": "code",
   "execution_count": 6,
   "metadata": {
    "colab": {
     "base_uri": "https://localhost:8080/"
    },
    "id": "VpHvvWcR4G7h",
    "outputId": "edf6fd3b-b3ef-41f2-d6f7-74686de0113c"
   },
   "outputs": [
    {
     "name": "stdout",
     "output_type": "stream",
     "text": [
      "47040000 7840000\n"
     ]
    }
   ],
   "source": [
    "print(train_imgs.size , test_imgs.size)"
   ]
  },
  {
   "cell_type": "code",
   "execution_count": 7,
   "metadata": {
    "id": "QzSq24k369Fm"
   },
   "outputs": [],
   "source": [
    "#Normalize the dataset\n",
    "train_imgs = train_imgs/255.0\n",
    "test_imgs = test_imgs/255.0"
   ]
  },
  {
   "cell_type": "code",
   "execution_count": 8,
   "metadata": {
    "id": "VaxfIU3J4Vmi"
   },
   "outputs": [],
   "source": [
    "#create model\n",
    "model=keras.Sequential([\n",
    "                        keras.layers.Flatten(input_shape=(28,28)),\n",
    "                        keras.layers.Dense(120,activation = tf.nn.relu),\n",
    "                        keras.layers.Dense(12,activation = tf.nn.relu),\n",
    "                        keras.layers.Dense(10, activation = tf.nn.softmax)\n",
    "])"
   ]
  },
  {
   "cell_type": "code",
   "execution_count": 9,
   "metadata": {
    "id": "FhAswTpm6CoM"
   },
   "outputs": [],
   "source": [
    "#compile model\n",
    "model.compile(optimizer=tf.optimizers.Adam(),\n",
    "              loss = 'sparse_categorical_crossentropy',\n",
    "              metrics = ['accuracy'])"
   ]
  },
  {
   "cell_type": "code",
   "execution_count": 10,
   "metadata": {
    "colab": {
     "base_uri": "https://localhost:8080/"
    },
    "id": "7Qo06WFl7oVx",
    "outputId": "abb3ad5b-19fe-48fb-cc3a-b932d75ac26f"
   },
   "outputs": [
    {
     "name": "stdout",
     "output_type": "stream",
     "text": [
      "Epoch 1/10\n",
      "1875/1875 [==============================] - 7s 3ms/step - loss: 0.5629 - accuracy: 0.8040\n",
      "Epoch 2/10\n",
      "1875/1875 [==============================] - 7s 4ms/step - loss: 0.3924 - accuracy: 0.8605\n",
      "Epoch 3/10\n",
      "1875/1875 [==============================] - 7s 4ms/step - loss: 0.3494 - accuracy: 0.8744\n",
      "Epoch 4/10\n",
      "1875/1875 [==============================] - 7s 4ms/step - loss: 0.3263 - accuracy: 0.8822\n",
      "Epoch 5/10\n",
      "1875/1875 [==============================] - 8s 4ms/step - loss: 0.3096 - accuracy: 0.8872\n",
      "Epoch 6/10\n",
      "1875/1875 [==============================] - 8s 4ms/step - loss: 0.2953 - accuracy: 0.8926\n",
      "Epoch 7/10\n",
      "1875/1875 [==============================] - 8s 4ms/step - loss: 0.2826 - accuracy: 0.8968\n",
      "Epoch 8/10\n",
      "1875/1875 [==============================] - 8s 4ms/step - loss: 0.2713 - accuracy: 0.8997\n",
      "Epoch 9/10\n",
      "1875/1875 [==============================] - 6s 3ms/step - loss: 0.2615 - accuracy: 0.9043\n",
      "Epoch 10/10\n",
      "1875/1875 [==============================] - 7s 4ms/step - loss: 0.2537 - accuracy: 0.9056\n"
     ]
    },
    {
     "data": {
      "text/plain": [
       "<keras.callbacks.History at 0x27d623028e0>"
      ]
     },
     "execution_count": 10,
     "metadata": {},
     "output_type": "execute_result"
    }
   ],
   "source": [
    "#input the data\n",
    "model.fit(train_imgs, train_lables, epochs = 10)"
   ]
  },
  {
   "cell_type": "code",
   "execution_count": 11,
   "metadata": {
    "colab": {
     "base_uri": "https://localhost:8080/"
    },
    "id": "oyir5Wpy78wV",
    "outputId": "b45199ca-aad8-4d4c-9d78-02eba9a622be"
   },
   "outputs": [
    {
     "name": "stdout",
     "output_type": "stream",
     "text": [
      "313/313 [==============================] - 1s 3ms/step - loss: 0.3506 - accuracy: 0.8799\n"
     ]
    },
    {
     "data": {
      "text/plain": [
       "[0.3505956530570984, 0.8798999786376953]"
      ]
     },
     "execution_count": 11,
     "metadata": {},
     "output_type": "execute_result"
    }
   ],
   "source": [
    "#evaluate data\n",
    "model.evaluate(test_imgs, test_labels)\n"
   ]
  }
 ],
 "metadata": {
  "colab": {
   "name": "Untitled2.ipynb",
   "provenance": []
  },
  "kernelspec": {
   "display_name": "Python 3 (ipykernel)",
   "language": "python",
   "name": "python3"
  },
  "language_info": {
   "codemirror_mode": {
    "name": "ipython",
    "version": 3
   },
   "file_extension": ".py",
   "mimetype": "text/x-python",
   "name": "python",
   "nbconvert_exporter": "python",
   "pygments_lexer": "ipython3",
   "version": "3.9.8"
  }
 },
 "nbformat": 4,
 "nbformat_minor": 1
}
